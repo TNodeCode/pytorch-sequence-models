{
 "cells": [
  {
   "cell_type": "markdown",
   "id": "5a83580b",
   "metadata": {},
   "source": [
    "# Sequence to Sequence RNN\n",
    "\n",
    "In this notebook you can train a sequence-to-sequence (seq2seq) model using an encoder-decoder RNN with an attention mechanism."
   ]
  },
  {
   "cell_type": "code",
   "execution_count": 8,
   "id": "c6a9d5c9-0a3f-4ec5-b534-99c7e3eb00ae",
   "metadata": {},
   "outputs": [
    {
     "name": "stdout",
     "output_type": "stream",
     "text": [
      "The autoreload extension is already loaded. To reload it, use:\n",
      "  %reload_ext autoreload\n"
     ]
    }
   ],
   "source": [
    "import numpy as np\n",
    "import torch\n",
    "from dataset.npz_dataset import NPZSequencesDataset\n",
    "from models.rnn import CellType\n",
    "from torch.utils.data import DataLoader\n",
    "from training.seq2seq_rnn_attn import Seq2SeqAttentionRNNPredictor\n",
    "\n",
    "%load_ext autoreload\n",
    "%autoreload 2"
   ]
  },
  {
   "cell_type": "code",
   "execution_count": 9,
   "id": "9e5d2e94-c1ba-472c-964d-c843c43c9945",
   "metadata": {},
   "outputs": [
    {
     "name": "stdout",
     "output_type": "stream",
     "text": [
      "Device cpu\n"
     ]
    }
   ],
   "source": [
    "# Find out if a CUDA device (GPU) is available\n",
    "if torch.cuda.device_count():\n",
    "    device=\"cuda\"\n",
    "else:\n",
    "    device=\"cpu\"\n",
    "print(\"Device\", device)"
   ]
  },
  {
   "cell_type": "code",
   "execution_count": 10,
   "id": "954c0fa3-dbea-4346-ad25-2bd62d0e14c3",
   "metadata": {},
   "outputs": [],
   "source": [
    "lr = 1e-3                   # The learning rate of the model\n",
    "cell_type=CellType.LSTM     # Cell type (LSTM | GRU | RNN)\n",
    "n_epochs = 10               # Number of epochs\n",
    "num_layers=2                # Number of RNN layers\n",
    "embedding_dim=32            # Embedding dimension\n",
    "hidden_size=32              # Hidden size of the RNN layers\n",
    "batch_size=256              # Batch size used for training\n",
    "max_length=20               # Maximum sequence length\n",
    "bidirectional=True          # True if bidirectional RNN layers should be used, False otherwise"
   ]
  },
  {
   "cell_type": "code",
   "execution_count": 11,
   "id": "88d53200-309f-4083-90c6-86c8b3f5a799",
   "metadata": {},
   "outputs": [],
   "source": [
    "\n",
    "# Load english and french sentences\n",
    "sequences_en = np.load(\"small_vocab_en.npz\")[\"data\"]\n",
    "sequences_fr = np.load(\"small_vocab_fr.npz\")[\"data\"]\n",
    "vocab_size_en = sequences_en.max()+1\n",
    "vocab_size_fr = sequences_fr.max()+1"
   ]
  },
  {
   "cell_type": "code",
   "execution_count": 12,
   "id": "b781679d",
   "metadata": {},
   "outputs": [],
   "source": [
    "# Create an instance of the dataset and a dataloader\n",
    "dataset = NPZSequencesDataset(\"small_vocab_en.npz\", \"small_vocab_fr.npz\", max_length=max_length)\n",
    "dataloader = DataLoader(dataset, batch_size=batch_size, shuffle=True, drop_last=True)"
   ]
  },
  {
   "cell_type": "code",
   "execution_count": null,
   "id": "3028489c",
   "metadata": {},
   "outputs": [],
   "source": [
    "# Create an instance of the predictor\n",
    "predictor = Seq2SeqAttentionRNNPredictor(\n",
    "    vocab_size_in=vocab_size_en,\n",
    "    vocab_size_out=vocab_size_fr,\n",
    "    max_length=max_length,\n",
    "    num_layers=num_layers,\n",
    "    batch_size=batch_size,\n",
    "    embedding_dim=embedding_dim,\n",
    "    hidden_size=hidden_size,\n",
    "    cell_type=cell_type,\n",
    "    bidirectional=bidirectional,\n",
    "    device=device,\n",
    ")"
   ]
  },
  {
   "cell_type": "code",
   "execution_count": null,
   "id": "cfd1b781",
   "metadata": {},
   "outputs": [],
   "source": [
    "# Train the predictor\n",
    "predictor.train(\n",
    "    dataloader=dataloader,\n",
    "    epochs=n_epochs,\n",
    "    batch_size=batch_size,\n",
    "    lr=lr,\n",
    ")"
   ]
  }
 ],
 "metadata": {
  "kernelspec": {
   "display_name": "Python 3 (ipykernel)",
   "language": "python",
   "name": "python3"
  },
  "language_info": {
   "codemirror_mode": {
    "name": "ipython",
    "version": 3
   },
   "file_extension": ".py",
   "mimetype": "text/x-python",
   "name": "python",
   "nbconvert_exporter": "python",
   "pygments_lexer": "ipython3",
   "version": "3.10.6"
  }
 },
 "nbformat": 4,
 "nbformat_minor": 5
}
